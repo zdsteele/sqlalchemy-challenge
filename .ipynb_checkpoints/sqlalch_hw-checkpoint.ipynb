{
 "cells": [
  {
   "cell_type": "code",
   "execution_count": 1,
   "metadata": {},
   "outputs": [],
   "source": [
    "%matplotlib inline\n",
    "from matplotlib import style\n",
    "style.use('fivethirtyeight')\n",
    "import matplotlib.pyplot as plt"
   ]
  },
  {
   "cell_type": "code",
   "execution_count": 2,
   "metadata": {},
   "outputs": [],
   "source": [
    "import numpy as np\n",
    "import pandas as pd"
   ]
  },
  {
   "cell_type": "code",
   "execution_count": 3,
   "metadata": {},
   "outputs": [],
   "source": [
    "import datetime as dt"
   ]
  },
  {
   "cell_type": "code",
   "execution_count": 4,
   "metadata": {},
   "outputs": [],
   "source": [
    "# Tools Used\n",
    "import sqlalchemy\n",
    "from sqlalchemy.ext.automap import automap_base\n",
    "from sqlalchemy.orm import Session\n",
    "from sqlalchemy import create_engine, func, inspect"
   ]
  },
  {
   "cell_type": "code",
   "execution_count": 5,
   "metadata": {},
   "outputs": [],
   "source": [
    "engine = create_engine(\"sqlite:///Resources/hawaii.sqlite\")"
   ]
  },
  {
   "cell_type": "code",
   "execution_count": 6,
   "metadata": {},
   "outputs": [],
   "source": [
    "# reflecting \n",
    "Base = automap_base()\n",
    "# reflect the tables\n",
    "Base.prepare(engine, reflect=True)"
   ]
  },
  {
   "cell_type": "code",
   "execution_count": 7,
   "metadata": {},
   "outputs": [
    {
     "data": {
      "text/plain": [
       "['measurement', 'station']"
      ]
     },
     "execution_count": 7,
     "metadata": {},
     "output_type": "execute_result"
    }
   ],
   "source": [
    "# Here are classes \n",
    "Base.classes.keys()"
   ]
  },
  {
   "cell_type": "code",
   "execution_count": 8,
   "metadata": {},
   "outputs": [],
   "source": [
    "# Tables \n",
    "Measurement = Base.classes.measurement\n",
    "Station = Base.classes.station"
   ]
  },
  {
   "cell_type": "code",
   "execution_count": 9,
   "metadata": {},
   "outputs": [],
   "source": [
    "# making session\n",
    "session = Session(engine)"
   ]
  },
  {
   "cell_type": "code",
   "execution_count": 10,
   "metadata": {},
   "outputs": [
    {
     "name": "stdout",
     "output_type": "stream",
     "text": [
      "('2010-01-01', 0.08)\n",
      "('2010-01-02', 0.0)\n",
      "('2010-01-03', 0.0)\n",
      "('2010-01-04', 0.0)\n",
      "('2010-01-06', None)\n",
      "('2010-01-07', 0.06)\n",
      "('2010-01-08', 0.0)\n",
      "('2010-01-09', 0.0)\n",
      "('2010-01-10', 0.0)\n",
      "('2010-01-11', 0.01)\n",
      "('2010-01-12', 0.0)\n",
      "('2010-01-14', 0.0)\n",
      "('2010-01-15', 0.0)\n",
      "('2010-01-16', 0.0)\n",
      "('2010-01-17', 0.0)\n",
      "('2010-01-18', 0.0)\n",
      "('2010-01-19', 0.0)\n",
      "('2010-01-20', 0.0)\n",
      "('2010-01-21', 0.0)\n",
      "('2010-01-22', 0.0)\n",
      "('2010-01-23', 0.0)\n",
      "('2010-01-24', 0.01)\n",
      "('2010-01-25', 0.0)\n",
      "('2010-01-26', 0.04)\n",
      "('2010-01-27', 0.12)\n",
      "('2010-01-28', 0.0)\n",
      "('2010-01-30', None)\n",
      "('2010-01-31', 0.03)\n",
      "('2010-02-01', 0.01)\n",
      "('2010-02-03', None)\n",
      "('2010-02-04', 0.01)\n",
      "('2010-02-05', 0.0)\n",
      "('2010-02-06', 0.0)\n",
      "('2010-02-07', 0.0)\n",
      "('2010-02-08', 0.0)\n",
      "('2010-02-09', 0.0)\n",
      "('2010-02-11', 0.0)\n",
      "('2010-02-12', 0.02)\n",
      "('2010-02-13', 0.01)\n",
      "('2010-02-14', 0.0)\n",
      "('2010-02-15', 0.0)\n",
      "('2010-02-16', 0.0)\n",
      "('2010-02-17', 0.0)\n",
      "('2010-02-19', None)\n",
      "('2010-02-20', 0.03)\n",
      "('2010-02-21', 0.0)\n",
      "('2010-02-22', 0.0)\n",
      "('2010-02-23', 0.0)\n",
      "('2010-02-24', 0.0)\n",
      "('2010-02-25', 0.0)\n",
      "('2010-02-26', 0.0)\n",
      "('2010-02-28', 0.0)\n",
      "('2010-03-01', 0.01)\n",
      "('2010-03-02', 0.0)\n",
      "('2010-03-03', 0.0)\n",
      "('2010-03-04', 0.12)\n",
      "('2010-03-05', 0.08)\n",
      "('2010-03-06', 0.03)\n",
      "('2010-03-07', 0.0)\n",
      "('2010-03-08', 0.43)\n",
      "('2010-03-09', 0.06)\n",
      "('2010-03-11', None)\n",
      "('2010-03-12', 0.0)\n",
      "('2010-03-13', 0.0)\n",
      "('2010-03-14', 0.0)\n",
      "('2010-03-15', 0.06)\n",
      "('2010-03-17', 0.0)\n",
      "('2010-03-18', 0.0)\n",
      "('2010-03-21', 0.0)\n",
      "('2010-03-22', 0.0)\n",
      "('2010-03-23', 0.0)\n",
      "('2010-03-24', 0.0)\n",
      "('2010-03-26', None)\n",
      "('2010-03-27', 0.0)\n",
      "('2010-03-28', 0.0)\n",
      "('2010-03-29', 0.0)\n",
      "('2010-03-30', 0.0)\n",
      "('2010-03-31', 0.0)\n",
      "('2010-04-01', 0.0)\n",
      "('2010-04-02', 0.01)\n",
      "('2010-04-03', 0.17)\n",
      "('2010-04-04', 0.15)\n",
      "('2010-04-05', 0.27)\n",
      "('2010-04-06', 0.01)\n",
      "('2010-04-08', 0.0)\n",
      "('2010-04-09', 0.01)\n",
      "('2010-04-10', 0.0)\n",
      "('2010-04-11', 0.01)\n",
      "('2010-04-12', 0.01)\n",
      "('2010-04-13', 0.0)\n",
      "('2010-04-15', 0.0)\n",
      "('2010-04-16', 0.01)\n",
      "('2010-04-17', 0.0)\n",
      "('2010-04-18', 0.0)\n",
      "('2010-04-19', 0.0)\n",
      "('2010-04-20', 0.04)\n",
      "('2010-04-21', 0.01)\n",
      "('2010-04-22', 0.0)\n",
      "('2010-04-23', 0.02)\n",
      "('2010-04-24', 0.0)\n",
      "('2010-04-25', 0.0)\n",
      "('2010-04-26', 0.0)\n",
      "('2010-04-28', 0.0)\n",
      "('2010-04-30', 0.0)\n",
      "('2010-05-01', 0.0)\n",
      "('2010-05-02', 0.03)\n",
      "('2010-05-03', 0.2)\n",
      "('2010-05-04', 0.08)\n",
      "('2010-05-05', 0.01)\n",
      "('2010-05-06', 0.0)\n",
      "('2010-05-07', 0.05)\n",
      "('2010-05-08', 0.0)\n",
      "('2010-05-09', 0.0)\n",
      "('2010-05-10', 0.0)\n",
      "('2010-05-11', 0.0)\n",
      "('2010-05-13', 0.0)\n",
      "('2010-05-14', 0.0)\n",
      "('2010-05-15', 0.0)\n",
      "('2010-05-16', 0.03)\n",
      "('2010-05-17', 0.0)\n",
      "('2010-05-18', 0.0)\n",
      "('2010-05-19', 0.0)\n",
      "('2010-05-21', None)\n",
      "('2010-05-22', 0.0)\n",
      "('2010-05-23', 0.05)\n",
      "('2010-05-24', 0.0)\n",
      "('2010-05-25', 0.0)\n",
      "('2010-05-26', 0.02)\n",
      "('2010-05-27', 0.0)\n",
      "('2010-05-28', 0.0)\n",
      "('2010-05-29', 0.0)\n",
      "('2010-05-30', 0.0)\n",
      "('2010-05-31', 0.0)\n",
      "('2010-06-01', 0.0)\n",
      "('2010-06-02', 0.01)\n",
      "('2010-06-03', 0.0)\n",
      "('2010-06-04', 0.0)\n",
      "('2010-06-05', 0.0)\n",
      "('2010-06-06', 0.0)\n",
      "('2010-06-07', 0.0)\n",
      "('2010-06-08', 0.0)\n",
      "('2010-06-09', 0.0)\n",
      "('2010-06-10', 0.0)\n",
      "('2010-06-11', 0.0)\n",
      "('2010-06-12', 0.0)\n",
      "('2010-06-13', 0.0)\n",
      "('2010-06-14', 0.0)\n",
      "('2010-06-15', 0.0)\n",
      "('2010-06-16', 0.0)\n",
      "('2010-06-17', 0.0)\n",
      "('2010-06-18', 0.0)\n",
      "('2010-06-19', 0.0)\n",
      "('2010-06-20', 0.0)\n",
      "('2010-06-21', 0.0)\n",
      "('2010-06-22', 0.0)\n",
      "('2010-06-23', 0.0)\n",
      "('2010-06-24', 0.0)\n",
      "('2010-06-25', 0.0)\n",
      "('2010-06-26', 0.02)\n",
      "('2010-06-27', 0.0)\n",
      "('2010-06-28', 0.0)\n",
      "('2010-06-29', 0.0)\n",
      "('2010-06-30', 0.0)\n",
      "('2010-07-01', 0.01)\n",
      "('2010-07-02', 0.05)\n",
      "('2010-07-03', 0.09)\n",
      "('2010-07-04', 0.05)\n",
      "('2010-07-05', 0.06)\n",
      "('2010-07-06', 0.08)\n",
      "('2010-07-07', 0.08)\n",
      "('2010-07-08', 0.03)\n",
      "('2010-07-09', 0.06)\n",
      "('2010-07-10', 0.09)\n",
      "('2010-07-11', 0.0)\n",
      "('2010-07-12', 0.0)\n",
      "('2010-07-13', 0.0)\n",
      "('2010-07-16', None)\n",
      "('2010-07-17', 0.02)\n",
      "('2010-07-18', 0.0)\n",
      "('2010-07-19', 0.04)\n",
      "('2010-07-21', 0.0)\n",
      "('2010-07-22', 0.0)\n",
      "('2010-07-24', 0.0)\n",
      "('2010-07-25', 0.0)\n",
      "('2010-07-26', 0.0)\n",
      "('2010-07-27', 0.0)\n",
      "('2010-07-28', 0.0)\n",
      "('2010-07-29', 0.0)\n",
      "('2010-07-30', 0.0)\n",
      "('2010-07-31', 0.02)\n",
      "('2010-08-01', 0.04)\n",
      "('2010-08-02', 0.01)\n",
      "('2010-08-03', 0.02)\n",
      "('2010-08-04', 0.07)\n",
      "('2010-08-05', 0.08)\n",
      "('2010-08-06', 0.03)\n",
      "('2010-08-07', 0.0)\n",
      "('2010-08-08', 0.0)\n",
      "('2010-08-09', 0.0)\n",
      "('2010-08-10', 0.0)\n",
      "('2010-08-11', 0.0)\n",
      "('2010-08-12', 0.0)\n",
      "('2010-08-13', 0.0)\n",
      "('2010-08-14', 0.0)\n",
      "('2010-08-15', 0.01)\n",
      "('2010-08-16', 0.0)\n",
      "('2010-08-17', 0.05)\n",
      "('2010-08-18', 0.0)\n",
      "('2010-08-19', 0.0)\n",
      "('2010-08-20', 0.0)\n",
      "('2010-08-21', 0.0)\n",
      "('2010-08-22', 0.0)\n",
      "('2010-08-23', 0.01)\n",
      "('2010-08-24', 0.0)\n",
      "('2010-08-25', 0.04)\n",
      "('2010-08-26', 0.03)\n",
      "('2010-08-27', 0.0)\n",
      "('2010-08-28', 0.04)\n",
      "('2010-08-29', 0.0)\n",
      "('2010-08-30', 0.0)\n",
      "('2010-08-31', 0.0)\n",
      "('2010-09-01', 0.0)\n",
      "('2010-09-02', 0.02)\n",
      "('2010-09-03', 0.04)\n",
      "('2010-09-04', 0.01)\n",
      "('2010-09-05', 0.0)\n",
      "('2010-09-06', 0.0)\n",
      "('2010-09-07', 0.06)\n",
      "('2010-09-08', 0.0)\n",
      "('2010-09-09', 0.0)\n",
      "('2010-09-10', 0.0)\n",
      "('2010-09-11', 0.05)\n",
      "('2010-09-12', 0.0)\n",
      "('2010-09-13', 0.0)\n",
      "('2010-09-14', 0.0)\n",
      "('2010-09-15', 0.0)\n",
      "('2010-09-16', 0.0)\n",
      "('2010-09-17', 0.0)\n",
      "('2010-09-19', 0.0)\n",
      "('2010-09-20', 0.0)\n",
      "('2010-09-21', 0.0)\n",
      "('2010-09-22', 0.04)\n",
      "('2010-09-23', 0.0)\n",
      "('2010-09-24', 0.0)\n",
      "('2010-09-25', 0.0)\n",
      "('2010-09-26', 0.0)\n",
      "('2010-09-27', 0.0)\n",
      "('2010-09-28', 0.0)\n",
      "('2010-09-29', 0.0)\n",
      "('2010-09-30', 0.57)\n",
      "('2010-10-01', 0.31)\n",
      "('2010-10-02', 0.03)\n",
      "('2010-10-03', 0.0)\n",
      "('2010-10-04', 0.06)\n",
      "('2010-10-05', 0.0)\n",
      "('2010-10-06', 0.0)\n",
      "('2010-10-07', 0.0)\n",
      "('2010-10-08', 0.0)\n",
      "('2010-10-09', 0.0)\n",
      "('2010-10-10', 0.0)\n",
      "('2010-10-11', 0.0)\n",
      "('2010-10-12', 0.0)\n",
      "('2010-10-13', 0.0)\n",
      "('2010-10-15', 0.0)\n",
      "('2010-10-16', 0.0)\n",
      "('2010-10-17', 0.0)\n",
      "('2010-10-18', 0.0)\n",
      "('2010-10-19', 0.07)\n",
      "('2010-10-20', 0.0)\n",
      "('2010-10-21', 0.0)\n",
      "('2010-10-22', 0.0)\n",
      "('2010-10-23', 0.0)\n",
      "('2010-10-24', 0.0)\n",
      "('2010-10-25', 0.0)\n",
      "('2010-10-26', 0.07)\n",
      "('2010-10-27', 0.05)\n",
      "('2010-10-28', 0.06)\n",
      "('2010-10-29', 0.03)\n",
      "('2010-10-30', 0.02)\n",
      "('2010-10-31', 0.0)\n",
      "('2010-11-01', 0.01)\n",
      "('2010-11-02', 0.01)\n",
      "('2010-11-04', None)\n",
      "('2010-11-05', 0.0)\n",
      "('2010-11-06', 0.0)\n",
      "('2010-11-07', 0.0)\n",
      "('2010-11-08', 0.0)\n",
      "('2010-11-09', 0.0)\n",
      "('2010-11-10', 0.23)\n",
      "('2010-11-11', 0.0)\n",
      "('2010-11-12', 0.0)\n",
      "('2010-11-13', 0.0)\n",
      "('2010-11-16', 0.0)\n",
      "('2010-11-17', 0.0)\n",
      "('2010-11-19', None)\n",
      "('2010-11-20', 0.03)\n",
      "('2010-11-21', 0.0)\n",
      "('2010-11-22', 0.0)\n",
      "('2010-11-23', 0.0)\n",
      "('2010-11-24', 0.0)\n",
      "('2010-11-25', 0.0)\n",
      "('2010-11-27', 0.0)\n",
      "('2010-11-28', 0.0)\n",
      "('2010-11-29', 0.0)\n",
      "('2010-11-30', 0.0)\n",
      "('2010-12-01', 0.04)\n",
      "('2010-12-03', 0.0)\n",
      "('2010-12-04', 0.0)\n",
      "('2010-12-06', 0.0)\n",
      "('2010-12-07', 0.0)\n",
      "('2010-12-08', 0.0)\n",
      "('2010-12-09', 0.0)\n",
      "('2010-12-10', 1.58)\n",
      "('2010-12-11', 0.77)\n",
      "('2010-12-12', 0.0)\n",
      "('2010-12-13', 0.0)\n",
      "('2010-12-14', 0.0)\n",
      "('2010-12-15', 0.0)\n",
      "('2010-12-16', 0.0)\n",
      "('2010-12-17', 0.0)\n",
      "('2010-12-18', 0.0)\n",
      "('2010-12-19', 1.4)\n",
      "('2010-12-23', 0.0)\n",
      "('2010-12-24', 0.0)\n",
      "('2010-12-26', None)\n",
      "('2010-12-27', 0.13)\n",
      "('2010-12-28', 0.55)\n",
      "('2010-12-29', 0.06)\n",
      "('2010-12-30', 0.01)\n",
      "('2010-12-31', 0.0)\n",
      "('2011-01-01', 0.0)\n",
      "('2011-01-02', 0.0)\n",
      "('2011-01-03', 0.0)\n",
      "('2011-01-04', 0.0)\n",
      "('2011-01-05', 0.0)\n",
      "('2011-01-06', 0.01)\n",
      "('2011-01-07', 0.0)\n",
      "('2011-01-08', 0.0)\n",
      "('2011-01-09', 0.0)\n",
      "('2011-01-10', 0.0)\n",
      "('2011-01-11', 0.09)\n",
      "('2011-01-13', None)\n",
      "('2011-01-14', 0.03)\n",
      "('2011-01-15', 0.0)\n",
      "('2011-01-16', 0.0)\n",
      "('2011-01-17', 0.0)\n",
      "('2011-01-18', 0.0)\n",
      "('2011-01-19', 0.03)\n",
      "('2011-01-20', 0.0)\n",
      "('2011-01-21', 0.0)\n",
      "('2011-01-22', 0.0)\n",
      "('2011-01-23', 0.0)\n",
      "('2011-01-24', 0.0)\n",
      "('2011-01-25', 0.0)\n",
      "('2011-01-27', 0.0)\n",
      "('2011-01-28', 0.0)\n",
      "('2011-01-29', 0.0)\n",
      "('2011-01-30', 0.0)\n",
      "('2011-01-31', 0.22)\n",
      "('2011-02-01', 0.0)\n",
      "('2011-02-02', 0.0)\n",
      "('2011-02-03', 0.0)\n",
      "('2011-02-04', 0.0)\n",
      "('2011-02-05', 0.0)\n",
      "('2011-02-06', 0.0)\n"
     ]
    }
   ],
   "source": [
    "# The last 12 months of precipitation data \n",
    "# Found in Stu_Reflection Solved \n",
    "\n",
    "first_row = session.query(Measurement).first()\n",
    "for row in session.query(Measurement.date, Measurement.prcp).limit(365).all():\n",
    "    print(row)\n",
    "\n"
   ]
  },
  {
   "cell_type": "code",
   "execution_count": 11,
   "metadata": {},
   "outputs": [
    {
     "data": {
      "text/plain": [
       "{'_sa_instance_state': <sqlalchemy.orm.state.InstanceState at 0x16322839ba8>,\n",
       " 'prcp': 0.08,\n",
       " 'station': 'USC00519397',\n",
       " 'id': 1,\n",
       " 'tobs': 65.0,\n",
       " 'date': '2010-01-01'}"
      ]
     },
     "execution_count": 11,
     "metadata": {},
     "output_type": "execute_result"
    }
   ],
   "source": [
    "# view what the results look like\n",
    "first_row.__dict__"
   ]
  },
  {
   "cell_type": "code",
   "execution_count": 12,
   "metadata": {},
   "outputs": [
    {
     "data": {
      "text/plain": [
       "'2011-02-06'"
      ]
     },
     "execution_count": 12,
     "metadata": {},
     "output_type": "execute_result"
    }
   ],
   "source": [
    "# 1 Year Ago\n",
    "# date 1 week ago from today (Other Method)\n",
    "# week_ago = dt.date.today() - dt.timedelta(days=7)\n",
    "\n",
    "\n",
    "apple = session.query(Measurement).limit(365)[-1]\n",
    "get_date = apple.__dict__\n",
    "Last = list(get_date.values())[5]\n",
    "Last\n"
   ]
  },
  {
   "cell_type": "code",
   "execution_count": 13,
   "metadata": {},
   "outputs": [],
   "source": [
    "# Precipitation Scores \n",
    "# Found in Ins_Dates Solved or Stu_Plotting Solved \n",
    "\n",
    "\n",
    "results = session.query(Measurement.date, Measurement.prcp).all()"
   ]
  },
  {
   "cell_type": "code",
   "execution_count": 14,
   "metadata": {},
   "outputs": [
    {
     "data": {
      "text/html": [
       "<div>\n",
       "<style scoped>\n",
       "    .dataframe tbody tr th:only-of-type {\n",
       "        vertical-align: middle;\n",
       "    }\n",
       "\n",
       "    .dataframe tbody tr th {\n",
       "        vertical-align: top;\n",
       "    }\n",
       "\n",
       "    .dataframe thead th {\n",
       "        text-align: right;\n",
       "    }\n",
       "</style>\n",
       "<table border=\"1\" class=\"dataframe\">\n",
       "  <thead>\n",
       "    <tr style=\"text-align: right;\">\n",
       "      <th></th>\n",
       "      <th>prcp</th>\n",
       "    </tr>\n",
       "    <tr>\n",
       "      <th>date</th>\n",
       "      <th></th>\n",
       "    </tr>\n",
       "  </thead>\n",
       "  <tbody>\n",
       "    <tr>\n",
       "      <th>2010-01-01</th>\n",
       "      <td>0.08</td>\n",
       "    </tr>\n",
       "    <tr>\n",
       "      <th>2010-01-02</th>\n",
       "      <td>0.00</td>\n",
       "    </tr>\n",
       "    <tr>\n",
       "      <th>2010-01-03</th>\n",
       "      <td>0.00</td>\n",
       "    </tr>\n",
       "    <tr>\n",
       "      <th>2010-01-04</th>\n",
       "      <td>0.00</td>\n",
       "    </tr>\n",
       "    <tr>\n",
       "      <th>2010-01-06</th>\n",
       "      <td>NaN</td>\n",
       "    </tr>\n",
       "    <tr>\n",
       "      <th>2010-01-07</th>\n",
       "      <td>0.06</td>\n",
       "    </tr>\n",
       "    <tr>\n",
       "      <th>2010-01-08</th>\n",
       "      <td>0.00</td>\n",
       "    </tr>\n",
       "    <tr>\n",
       "      <th>2010-01-09</th>\n",
       "      <td>0.00</td>\n",
       "    </tr>\n",
       "    <tr>\n",
       "      <th>2010-01-10</th>\n",
       "      <td>0.00</td>\n",
       "    </tr>\n",
       "    <tr>\n",
       "      <th>2010-01-11</th>\n",
       "      <td>0.01</td>\n",
       "    </tr>\n",
       "  </tbody>\n",
       "</table>\n",
       "</div>"
      ],
      "text/plain": [
       "            prcp\n",
       "date            \n",
       "2010-01-01  0.08\n",
       "2010-01-02  0.00\n",
       "2010-01-03  0.00\n",
       "2010-01-04  0.00\n",
       "2010-01-06   NaN\n",
       "2010-01-07  0.06\n",
       "2010-01-08  0.00\n",
       "2010-01-09  0.00\n",
       "2010-01-10  0.00\n",
       "2010-01-11  0.01"
      ]
     },
     "execution_count": 14,
     "metadata": {},
     "output_type": "execute_result"
    }
   ],
   "source": [
    "# DataFrame Creation\n",
    "df = pd.DataFrame(results[:10], columns=['date', 'prcp'])\n",
    "df.set_index('date', inplace=True, )\n",
    "df.head(10)"
   ]
  },
  {
   "cell_type": "code",
   "execution_count": 15,
   "metadata": {},
   "outputs": [],
   "source": [
    "# sorting the DF\n",
    "results2 = session.query(Measurement.date, Measurement.prcp).\\\n",
    "    order_by(Measurement.date.desc()).limit(365)"
   ]
  },
  {
   "cell_type": "code",
   "execution_count": 16,
   "metadata": {},
   "outputs": [
    {
     "data": {
      "text/plain": [
       "4.0"
      ]
     },
     "execution_count": 16,
     "metadata": {},
     "output_type": "execute_result"
    }
   ],
   "source": [
    "# Plotting \n",
    "df2 = pd.DataFrame(results2, columns=['date', 'prcp',])\n",
    "df2.set_index('date', inplace=True, )\n",
    "df2.head(10)\n",
    "len(df2)\n",
    "max(df2['prcp'])"
   ]
  },
  {
   "cell_type": "code",
   "execution_count": 17,
   "metadata": {
    "scrolled": true
   },
   "outputs": [
    {
     "data": {
      "image/png": "[encoded data removed]",
      "text/plain": [
       "<Figure size 432x288 with 1 Axes>"
      ]
     },
     "metadata": {
      "needs_background": "light"
     },
     "output_type": "display_data"
    }
   ],
   "source": [
    "df2.plot.bar(title='Precipitation')\n",
    "#ax.tick_params(top='off', bottom='off', left='off', right='off', labelleft='on', labelbottom='on')\n",
    "plt.show()"
   ]
  },
  {
   "cell_type": "code",
   "execution_count": 18,
   "metadata": {},
   "outputs": [
    {
     "data": {
      "text/html": [
       "<div>\n",
       "<style scoped>\n",
       "    .dataframe tbody tr th:only-of-type {\n",
       "        vertical-align: middle;\n",
       "    }\n",
       "\n",
       "    .dataframe tbody tr th {\n",
       "        vertical-align: top;\n",
       "    }\n",
       "\n",
       "    .dataframe thead th {\n",
       "        text-align: right;\n",
       "    }\n",
       "</style>\n",
       "<table border=\"1\" class=\"dataframe\">\n",
       "  <thead>\n",
       "    <tr style=\"text-align: right;\">\n",
       "      <th></th>\n",
       "      <th>prcp</th>\n",
       "    </tr>\n",
       "  </thead>\n",
       "  <tbody>\n",
       "    <tr>\n",
       "      <th>count</th>\n",
       "      <td>329.000000</td>\n",
       "    </tr>\n",
       "    <tr>\n",
       "      <th>mean</th>\n",
       "      <td>0.105137</td>\n",
       "    </tr>\n",
       "    <tr>\n",
       "      <th>std</th>\n",
       "      <td>0.296032</td>\n",
       "    </tr>\n",
       "    <tr>\n",
       "      <th>min</th>\n",
       "      <td>0.000000</td>\n",
       "    </tr>\n",
       "    <tr>\n",
       "      <th>25%</th>\n",
       "      <td>0.000000</td>\n",
       "    </tr>\n",
       "    <tr>\n",
       "      <th>50%</th>\n",
       "      <td>0.020000</td>\n",
       "    </tr>\n",
       "    <tr>\n",
       "      <th>75%</th>\n",
       "      <td>0.100000</td>\n",
       "    </tr>\n",
       "    <tr>\n",
       "      <th>max</th>\n",
       "      <td>4.000000</td>\n",
       "    </tr>\n",
       "  </tbody>\n",
       "</table>\n",
       "</div>"
      ],
      "text/plain": [
       "             prcp\n",
       "count  329.000000\n",
       "mean     0.105137\n",
       "std      0.296032\n",
       "min      0.000000\n",
       "25%      0.000000\n",
       "50%      0.020000\n",
       "75%      0.100000\n",
       "max      4.000000"
      ]
     },
     "execution_count": 18,
     "metadata": {},
     "output_type": "execute_result"
    }
   ],
   "source": [
    "# sum stats \n",
    "df2.describe()"
   ]
  },
  {
   "cell_type": "code",
   "execution_count": 19,
   "metadata": {
    "scrolled": true
   },
   "outputs": [
    {
     "name": "stdout",
     "output_type": "stream",
     "text": [
      "('USC00519397',)\n",
      "('USC00513117',)\n",
      "('USC00514830',)\n",
      "('USC00517948',)\n",
      "('USC00518838',)\n",
      "('USC00519523',)\n",
      "('USC00519281',)\n",
      "('USC00511918',)\n",
      "('USC00516128',)\n"
     ]
    }
   ],
   "source": [
    "# how many stations?\n",
    "\n",
    "names = 0\n",
    "for row in session.query(Measurement.station).distinct(): \n",
    "    print(row)\n",
    "    names += 1 \n",
    "    \n",
    "    "
   ]
  },
  {
   "cell_type": "code",
   "execution_count": 20,
   "metadata": {},
   "outputs": [
    {
     "data": {
      "text/plain": [
       "9"
      ]
     },
     "execution_count": 20,
     "metadata": {},
     "output_type": "execute_result"
    }
   ],
   "source": [
    "# how many unique stations\n",
    "names "
   ]
  },
  {
   "cell_type": "code",
   "execution_count": 21,
   "metadata": {},
   "outputs": [
    {
     "data": {
      "text/plain": [
       "[('USC00519281', 2772),\n",
       " ('USC00513117', 2709),\n",
       " ('USC00519397', 2724),\n",
       " ('USC00519523', 2669),\n",
       " ('USC00516128', 2612),\n",
       " ('USC00514830', 2202),\n",
       " ('USC00511918', 1979),\n",
       " ('USC00517948', 1372),\n",
       " ('USC00518838', 511)]"
      ]
     },
     "execution_count": 21,
     "metadata": {},
     "output_type": "execute_result"
    }
   ],
   "source": [
    "# Most active stations listed in descending order\n",
    "\n",
    "session.query(Measurement.station, func.count(Measurement.station)).group_by(Measurement.station).\\\n",
    "    order_by(func.count(Measurement.prcp).desc()).all()\n",
    "\n"
   ]
  },
  {
   "cell_type": "code",
   "execution_count": 22,
   "metadata": {},
   "outputs": [
    {
     "data": {
      "text/plain": [
       "[(54.0, 85.0, 71.66378066378067)]"
      ]
     },
     "execution_count": 22,
     "metadata": {},
     "output_type": "execute_result"
    }
   ],
   "source": [
    "# Low High And Average \n",
    "                         \n",
    "session.query(func.min(Measurement.tobs), func.max(Measurement.tobs), func.avg(Measurement.tobs)).\\\n",
    "    filter(Measurement.station == 'USC00519281').all()"
   ]
  },
  {
   "cell_type": "code",
   "execution_count": 23,
   "metadata": {},
   "outputs": [
    {
     "data": {
      "text/plain": [
       "<matplotlib.axes._subplots.AxesSubplot at 0x163232f9c50>"
      ]
     },
     "execution_count": 23,
     "metadata": {},
     "output_type": "execute_result"
    },
    {
     "data": {
      "image/png": "[encoded data removed]",
      "text/plain": [
       "<Figure size 432x288 with 1 Axes>"
      ]
     },
     "metadata": {
      "needs_background": "light"
     },
     "output_type": "display_data"
    }
   ],
   "source": [
    "# Stations with most observations \n",
    "\n",
    "results3 = session.query(Measurement.tobs).\\\n",
    "    filter(Measurement.station == 'USC00519281').limit(365)\n",
    "\n",
    "df3 = pd.DataFrame(results3, columns=['tobs',])\n",
    "df3.head(10)\n",
    "df3.plot.hist(title='Temp')"
   ]
  },
  {
   "cell_type": "code",
   "execution_count": null,
   "metadata": {},
   "outputs": [],
   "source": []
  },
  {
   "cell_type": "code",
   "execution_count": null,
   "metadata": {},
   "outputs": [],
   "source": []
  },
  {
   "cell_type": "code",
   "execution_count": null,
   "metadata": {},
   "outputs": [],
   "source": []
  },
  {
   "cell_type": "code",
   "execution_count": 29,
   "metadata": {},
   "outputs": [
    {
     "name": "stdout",
     "output_type": "stream",
     "text": [
      "[(62.0, 69.57142857142857, 74.0)]\n"
     ]
    }
   ],
   "source": [
    "# Calc_Temps, Attempting some of the Bonus\n",
    "def calc_temps(start_date, end_date):\n",
    "#     \"\"\"TMIN, TAVG, and TMAX for a list of dates.\n",
    "    \n",
    "#     Args:\n",
    "#         start_date (string): A date string in the format %Y-%m-%d\n",
    "#         end_date (string): A date string in the format %Y-%m-%d\n",
    "        \n",
    "#     Returns:\n",
    "#         TMIN, TAVE, and TMAX\n",
    "#     \"\"\"\n",
    "    \n",
    "    return session.query(func.min(Measurement.tobs), func.avg(Measurement.tobs), func.max(Measurement.tobs)).\\\n",
    "        filter(Measurement.date >= start_date).filter(Measurement.date <= end_date).all()\n",
    "\n",
    "# function usage example\n",
    "print(calc_temps('2012-02-28', '2012-03-05'))\n"
   ]
  },
  {
   "cell_type": "code",
   "execution_count": 30,
   "metadata": {},
   "outputs": [],
   "source": [
    "\n",
    "def calc_temps(start_date, end_date):\n",
    "    return session.query(func.min(Measurement.tobs), func.avg(Measurement.tobs), func.max(Measurement.tobs)).\\\n",
    "        filter(Measurement.date >= start_date).filter(Measurement.date <= end_date).all()\n",
    "\n",
    "results4 = (calc_temps('2010-01-01', '2011-02-06'))\n"
   ]
  },
  {
   "cell_type": "code",
   "execution_count": 26,
   "metadata": {},
   "outputs": [],
   "source": [
    "# Trying to plot\n",
    "\n",
    "axis = []\n",
    "mini = []\n",
    "maxi = [] \n",
    "\n",
    "for stuff in results4:\n",
    "    axis.append(session.query(func.avg(Measurement.tobs)))\n",
    "    mini.append(session.query(func.min(Measurement.tobs)))\n",
    "    maxi.append(session.query(func.max(Measurement.tobs)))\n",
    "\n"
   ]
  },
  {
   "cell_type": "code",
   "execution_count": 27,
   "metadata": {},
   "outputs": [
    {
     "data": {
      "text/html": [
       "<div>\n",
       "<style scoped>\n",
       "    .dataframe tbody tr th:only-of-type {\n",
       "        vertical-align: middle;\n",
       "    }\n",
       "\n",
       "    .dataframe tbody tr th {\n",
       "        vertical-align: top;\n",
       "    }\n",
       "\n",
       "    .dataframe thead th {\n",
       "        text-align: right;\n",
       "    }\n",
       "</style>\n",
       "<table border=\"1\" class=\"dataframe\">\n",
       "  <thead>\n",
       "    <tr style=\"text-align: right;\">\n",
       "      <th></th>\n",
       "      <th>mini</th>\n",
       "      <th>axis</th>\n",
       "      <th>maxi</th>\n",
       "    </tr>\n",
       "  </thead>\n",
       "  <tbody>\n",
       "    <tr>\n",
       "      <th>0</th>\n",
       "      <td>56.0</td>\n",
       "      <td>72.063373</td>\n",
       "      <td>87.0</td>\n",
       "    </tr>\n",
       "  </tbody>\n",
       "</table>\n",
       "</div>"
      ],
      "text/plain": [
       "   mini       axis  maxi\n",
       "0  56.0  72.063373  87.0"
      ]
     },
     "execution_count": 27,
     "metadata": {},
     "output_type": "execute_result"
    }
   ],
   "source": [
    "df4 = pd.DataFrame(results4, columns=['mini', 'axis', 'maxi'])\n",
    "df4"
   ]
  },
  {
   "cell_type": "code",
   "execution_count": 28,
   "metadata": {},
   "outputs": [
    {
     "ename": "SyntaxError",
     "evalue": "invalid syntax (<ipython-input-28-b0aad1f6afc6>, line 2)",
     "output_type": "error",
     "traceback": [
      "\u001b[1;36m  File \u001b[1;32m\"<ipython-input-28-b0aad1f6afc6>\"\u001b[1;36m, line \u001b[1;32m2\u001b[0m\n\u001b[1;33m    df4.plot.bar( ,'axis', title='Trp Avg Temp')\u001b[0m\n\u001b[1;37m                  ^\u001b[0m\n\u001b[1;31mSyntaxError\u001b[0m\u001b[1;31m:\u001b[0m invalid syntax\n"
     ]
    }
   ],
   "source": [
    "x=0\n",
    "df4.plot.bar( ,'axis', title='Trp Avg Temp')"
   ]
  },
  {
   "cell_type": "code",
   "execution_count": null,
   "metadata": {},
   "outputs": [],
   "source": []
  }
 ],
 "metadata": {
  "kernelspec": {
   "display_name": "Python 3",
   "language": "python",
   "name": "python3"
  },
  "language_info": {
   "codemirror_mode": {
    "name": "ipython",
    "version": 3
   },
   "file_extension": ".py",
   "mimetype": "text/x-python",
   "name": "python",
   "nbconvert_exporter": "python",
   "pygments_lexer": "ipython3",
   "version": "3.7.3"
  }
 },
 "nbformat": 4,
 "nbformat_minor": 2
}
